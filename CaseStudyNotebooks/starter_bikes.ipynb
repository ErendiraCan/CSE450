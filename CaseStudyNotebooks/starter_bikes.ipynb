{
  "nbformat": 4,
  "nbformat_minor": 0,
  "metadata": {
    "colab": {
      "name": "starter_bikes.ipynb",
      "provenance": [],
      "include_colab_link": true
    },
    "kernelspec": {
      "name": "python3",
      "display_name": "Python 3"
    }
  },
  "cells": [
    {
      "cell_type": "markdown",
      "metadata": {
        "id": "view-in-github",
        "colab_type": "text"
      },
      "source": [
        "<a href=\"https://colab.research.google.com/github/ErendiraCan/CSE450/blob/main/CaseStudyNotebooks/starter_bikes.ipynb\" target=\"_parent\"><img src=\"https://colab.research.google.com/assets/colab-badge.svg\" alt=\"Open In Colab\"/></a>"
      ]
    },
    {
      "cell_type": "code",
      "metadata": {
        "id": "mA0HPVmIBT4C"
      },
      "source": [
        "import pandas as pd\n",
        "import tensorflow as tf\n",
        "from tensorflow import keras\n",
        "from tensorflow.keras import layers\n",
        "from sklearn.model_selection import train_test_split\n",
        "from sklearn.preprocessing import MinMaxScaler\n",
        "\n",
        "bikes = pd.read_csv('https://raw.githubusercontent.com/byui-cse/cse450-course/master/data/bikes.csv')"
      ],
      "execution_count": 1,
      "outputs": []
    },
    {
      "cell_type": "code",
      "metadata": {
        "id": "StiU5QcPPxqQ",
        "outputId": "ef4ec965-9d3e-4a11-9c0d-25e069dd2a65",
        "colab": {
          "base_uri": "https://localhost:8080/"
        }
      },
      "source": [
        "# Split the dataset into features (X) and target (y)\n",
        "X = bikes.drop('dteday', axis=1)\n",
        "y = bikes['registered']\n",
        "\n",
        "# Split the data into training and testing sets\n",
        "X_train, X_test, y_train, y_test = train_test_split(X, y, test_size=0.2, random_state=42)\n",
        "\n",
        "# Scale the features using MinMaxScaler\n",
        "scaler = MinMaxScaler()\n",
        "X_train_scaled = scaler.fit_transform(X_train)\n",
        "X_test_scaled = scaler.transform(X_test)\n",
        "\n",
        "# Build the neural network model\n",
        "model = tf.keras.Sequential([\n",
        "    tf.keras.layers.Dense(64, activation='relu', input_shape=(X_train_scaled.shape[1],)),\n",
        "    tf.keras.layers.Dense(32, activation='relu'),\n",
        "    tf.keras.layers.Dense(1)\n",
        "])\n",
        "\n",
        "# Compile the model\n",
        "model.compile(optimizer='adam', loss='mean_squared_error')\n",
        "\n",
        "# Train the model\n",
        "model.fit(X_train_scaled, y_train, epochs=10, batch_size=32, verbose=1)\n",
        "\n",
        "# Evaluate the model\n",
        "loss = model.evaluate(X_test_scaled, y_test, verbose=0)\n",
        "print('Mean Squared Error:', loss)\n",
        "\n",
        "# Make predictions\n",
        "predictions = model.predict(X_test_scaled)\n",
        "\n",
        "# Print the first few predictions\n",
        "for i in range(5):\n",
        "    print('Actual:', y_test.values[i], '| Predicted:', predictions[i][0])\n"
      ],
      "execution_count": 4,
      "outputs": [
        {
          "output_type": "stream",
          "name": "stdout",
          "text": [
            "Epoch 1/10\n",
            "416/416 [==============================] - 2s 3ms/step - loss: 28610.5977\n",
            "Epoch 2/10\n",
            "416/416 [==============================] - 1s 3ms/step - loss: 11116.2119\n",
            "Epoch 3/10\n",
            "416/416 [==============================] - 2s 4ms/step - loss: 3975.5891\n",
            "Epoch 4/10\n",
            "416/416 [==============================] - 1s 3ms/step - loss: 865.9539\n",
            "Epoch 5/10\n",
            "416/416 [==============================] - 1s 3ms/step - loss: 110.9583\n",
            "Epoch 6/10\n",
            "416/416 [==============================] - 1s 3ms/step - loss: 20.4025\n",
            "Epoch 7/10\n",
            "416/416 [==============================] - 1s 3ms/step - loss: 8.3260\n",
            "Epoch 8/10\n",
            "416/416 [==============================] - 1s 3ms/step - loss: 4.7307\n",
            "Epoch 9/10\n",
            "416/416 [==============================] - 1s 2ms/step - loss: 2.4720\n",
            "Epoch 10/10\n",
            "416/416 [==============================] - 1s 2ms/step - loss: 1.3679\n",
            "Mean Squared Error: 1.0533825159072876\n",
            "104/104 [==============================] - 0s 2ms/step\n",
            "Actual: 2 | Predicted: 2.4238975\n",
            "Actual: 223 | Predicted: 222.76053\n",
            "Actual: 203 | Predicted: 202.61185\n",
            "Actual: 14 | Predicted: 14.179849\n",
            "Actual: 192 | Predicted: 189.8429\n"
          ]
        }
      ]
    },
    {
      "cell_type": "code",
      "metadata": {
        "id": "ALLMN63FPyEQ"
      },
      "source": [],
      "execution_count": null,
      "outputs": []
    },
    {
      "cell_type": "code",
      "metadata": {
        "id": "RnGBwGVZPyyh"
      },
      "source": [],
      "execution_count": null,
      "outputs": []
    },
    {
      "cell_type": "code",
      "metadata": {
        "id": "CVSfaqgKPzE2"
      },
      "source": [],
      "execution_count": null,
      "outputs": []
    }
  ]
}